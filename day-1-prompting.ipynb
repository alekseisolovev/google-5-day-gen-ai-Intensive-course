{
 "cells": [
  {
   "cell_type": "markdown",
   "id": "39b4444f",
   "metadata": {
    "id": "jkxRSYjzA1oX",
    "papermill": {
     "duration": 0.013138,
     "end_time": "2024-11-11T17:16:21.777229",
     "exception": false,
     "start_time": "2024-11-11T17:16:21.764091",
     "status": "completed"
    },
    "tags": []
   },
   "source": [
    "##### Copyright 2024 Google LLC."
   ]
  },
  {
   "cell_type": "code",
   "execution_count": 1,
   "id": "7fe88701",
   "metadata": {
    "cellView": "form",
    "execution": {
     "iopub.execute_input": "2024-11-11T17:16:21.805490Z",
     "iopub.status.busy": "2024-11-11T17:16:21.804545Z",
     "iopub.status.idle": "2024-11-11T17:16:21.809543Z",
     "shell.execute_reply": "2024-11-11T17:16:21.808768Z"
    },
    "id": "5u5OZ2ShA3BA",
    "jupyter": {
     "source_hidden": true
    },
    "papermill": {
     "duration": 0.021704,
     "end_time": "2024-11-11T17:16:21.811553",
     "exception": false,
     "start_time": "2024-11-11T17:16:21.789849",
     "status": "completed"
    },
    "tags": []
   },
   "outputs": [],
   "source": [
    "# @title Licensed under the Apache License, Version 2.0 (the \"License\");\n",
    "# you may not use this file except in compliance with the License.\n",
    "# You may obtain a copy of the License at\n",
    "#\n",
    "# https://www.apache.org/licenses/LICENSE-2.0\n",
    "#\n",
    "# Unless required by applicable law or agreed to in writing, software\n",
    "# distributed under the License is distributed on an \"AS IS\" BASIS,\n",
    "# WITHOUT WARRANTIES OR CONDITIONS OF ANY KIND, either express or implied.\n",
    "# See the License for the specific language governing permissions and\n",
    "# limitations under the License."
   ]
  },
  {
   "cell_type": "markdown",
   "id": "868da009",
   "metadata": {
    "id": "csNPnkuCobmG",
    "papermill": {
     "duration": 0.012276,
     "end_time": "2024-11-11T17:16:21.836590",
     "exception": false,
     "start_time": "2024-11-11T17:16:21.824314",
     "status": "completed"
    },
    "tags": []
   },
   "source": [
    "# Day 1 - Prompting\n",
    "\n",
    "Welcome to the Kaggle 5-day Generative AI course!\n",
    "\n",
    "This notebook will show you how to get started with the Gemini API and walk you through some of the example prompts and techniques that you can also read about in the Prompting whitepaper. You don't need to read the whitepaper to use this notebook, but the papers will give you some theoretical context and background to complement this interactive notebook.\n",
    "\n",
    "\n",
    "## Before you begin\n",
    "\n",
    "In this notebook, you'll start exploring prompts and prompt parameters using the Python SDK and AI Studio. For some inspiration, you might enjoy exploring some apps that have been built using the Gemini family of models. Here are a few that we like, and we think you will too.\n",
    "\n",
    "* [TextFX](https://textfx.withgoogle.com/) is a suite of AI-powered tools for rappers, made in collaboration with Lupe Fiasco,\n",
    "* [SQL Talk](https://sql-talk-r5gdynozbq-uc.a.run.app/) shows how you can talk directly to a database using the Gemini API,\n",
    "* [NotebookLM](https://notebooklm.google/) uses Gemini models to build your own personal AI research assistant.\n",
    "\n",
    "\n",
    "## For help\n",
    "\n",
    "**Common issues are covered in the [FAQ and troubleshooting guide](https://www.kaggle.com/code/markishere/day-0-troubleshooting-and-faqs).**\n",
    "\n",
    "### A note on the Gemini API and Vertex AI\n",
    "\n",
    "In the whitepapers, most of the example code uses the Enterprise [Vertex AI platform](https://cloud.google.com/vertex-ai). In contrast, this notebook, along with the others in this series, will use the [Gemini Developer API](https://ai.google.dev/gemini-api/) and [AI Studio](https://aistudio.google.com/).\n",
    "\n",
    "Both APIs provide access to the Gemini family of models, and the code to interact with the models is very similar. Vertex provides a world-class platform for enterprises, governments and advanced users that need powerful features like data governance, ML ops and deep Google Cloud integration.\n",
    "\n",
    "AI Studio is free to use and only requires a compatible Google account to log in and get started. It is deeply integrated with the Gemini API, which comes with a generous [free tier](https://ai.google.dev/pricing) that you can use to run the code in these exercises.\n",
    "\n",
    "If you are already set up with Google Cloud, you can check out the [Enterprise Gemini API](https://cloud.google.com/vertex-ai/generative-ai/docs/model-reference/inference) through Vertex AI, and run the samples directly from the supplied whitepapers."
   ]
  },
  {
   "attachments": {},
   "cell_type": "markdown",
   "id": "f08cc478",
   "metadata": {
    "id": "f00ea7c99e44",
    "papermill": {
     "duration": 0.012253,
     "end_time": "2024-11-11T17:16:21.861255",
     "exception": false,
     "start_time": "2024-11-11T17:16:21.849002",
     "status": "completed"
    },
    "tags": []
   },
   "source": [
    "## Get started with Kaggle notebooks\n",
    "\n",
    "If this is your first time using a Kaggle notebook, welcome! You can read about how to use Kaggle notebooks [in the docs](https://www.kaggle.com/docs/notebooks).\n",
    "\n",
    "First, you will need to phone verify your account at kaggle.com/settings.\n",
    "\n",
    "![](https://storage.googleapis.com/kaggle-media/Images/5dgai_0.png)"
   ]
  },
  {
   "cell_type": "markdown",
   "id": "f4dc5ae2",
   "metadata": {
    "papermill": {
     "duration": 0.012064,
     "end_time": "2024-11-11T17:16:21.885784",
     "exception": false,
     "start_time": "2024-11-11T17:16:21.873720",
     "status": "completed"
    },
    "tags": []
   },
   "source": [
    "To run this notebook, as well as the others in this course, you will need to make a copy, or fork, the notebook. Look for the `Copy and Edit` button in the top-right, and **click it** to make an editable, private copy of the notebook. It should look like this one:\n",
    "\n",
    "![Copy and Edit button](https://storage.googleapis.com/kaggle-media/Images/5gdai_sc_1.png)\n",
    "\n",
    "Your copy will now have a ▶️ **Run** button next to each code cell that you can press to execute that cell. These notebooks are expected to be run in order from top-to-bottom, but you are encouraged to add new cells, run your own code and explore. If you get stuck, you can try the `Factory reset` option in the `Run` menu, or head back to the original notebook and make a fresh copy.\n",
    "\n",
    "![Run cell button](https://storage.googleapis.com/kaggle-media/Images/5gdai_sc_2.png)\n",
    "\n",
    "### Problems?\n",
    "\n",
    "If you have any problems, head over to the [Kaggle Discord](https://discord.com/invite/kaggle), find the [`#5dgai-q-and-a` channel](https://discord.com/channels/1101210829807956100/1303438695143178251) and ask for help."
   ]
  },
  {
   "cell_type": "markdown",
   "id": "aa49a202",
   "metadata": {
    "id": "ExkOXcPxtTb5",
    "papermill": {
     "duration": 0.011909,
     "end_time": "2024-11-11T17:16:21.909906",
     "exception": false,
     "start_time": "2024-11-11T17:16:21.897997",
     "status": "completed"
    },
    "tags": []
   },
   "source": [
    "## Get started with the Gemini API\n",
    "\n",
    "All of the exercises in this notebook will use the [Gemini API](https://ai.google.dev/gemini-api/) by way of the [Python SDK](https://pypi.org/project/google-generativeai/). Each of these prompts can be accessed directly in [Google AI Studio](https://aistudio.google.com/) too, so if you would rather use a web interface and skip the code for this activity, look for the <img src=\"https://ai.google.dev/site-assets/images/marketing/home/icon-ais.png\" style=\"height: 24px\" height=24/> AI Studio link on each prompt."
   ]
  },
  {
   "cell_type": "markdown",
   "id": "7b4dccd8",
   "metadata": {
    "papermill": {
     "duration": 0.012046,
     "end_time": "2024-11-11T17:16:21.934240",
     "exception": false,
     "start_time": "2024-11-11T17:16:21.922194",
     "status": "completed"
    },
    "tags": []
   },
   "source": [
    "Next, you will need to add your API key to your Kaggle Notebook as a Kaggle User Secret.\n",
    "\n",
    "![](https://storage.googleapis.com/kaggle-media/Images/5dgai_1.png)\n",
    "![](https://storage.googleapis.com/kaggle-media/Images/5dgai_2.png)\n",
    "![](https://storage.googleapis.com/kaggle-media/Images/5dgai_3.png)\n",
    "![](https://storage.googleapis.com/kaggle-media/Images/5dgai_4.png)"
   ]
  },
  {
   "cell_type": "markdown",
   "id": "0c9a083a",
   "metadata": {
    "id": "UAjUV3BsvFXQ",
    "papermill": {
     "duration": 0.011905,
     "end_time": "2024-11-11T17:16:21.958378",
     "exception": false,
     "start_time": "2024-11-11T17:16:21.946473",
     "status": "completed"
    },
    "tags": []
   },
   "source": [
    "### Install the SDK"
   ]
  },
  {
   "cell_type": "code",
   "execution_count": 2,
   "id": "96b5ebf1",
   "metadata": {
    "execution": {
     "iopub.execute_input": "2024-11-11T17:16:21.984962Z",
     "iopub.status.busy": "2024-11-11T17:16:21.984077Z",
     "iopub.status.idle": "2024-11-11T17:16:48.185607Z",
     "shell.execute_reply": "2024-11-11T17:16:48.184291Z"
    },
    "id": "NzwzJFU9LqkJ",
    "papermill": {
     "duration": 26.21724,
     "end_time": "2024-11-11T17:16:48.188129",
     "exception": false,
     "start_time": "2024-11-11T17:16:21.970889",
     "status": "completed"
    },
    "tags": []
   },
   "outputs": [
    {
     "name": "stdout",
     "output_type": "stream",
     "text": [
      "Note: you may need to restart the kernel to use updated packages.\n"
     ]
    }
   ],
   "source": [
    "%pip install -U -q \"google-generativeai>=0.8.3\""
   ]
  },
  {
   "cell_type": "code",
   "execution_count": 3,
   "id": "2e28b7d3",
   "metadata": {
    "execution": {
     "iopub.execute_input": "2024-11-11T17:16:48.215582Z",
     "iopub.status.busy": "2024-11-11T17:16:48.214641Z",
     "iopub.status.idle": "2024-11-11T17:16:49.217249Z",
     "shell.execute_reply": "2024-11-11T17:16:49.216234Z"
    },
    "id": "5DwxYIRavMST",
    "papermill": {
     "duration": 1.019135,
     "end_time": "2024-11-11T17:16:49.219826",
     "exception": false,
     "start_time": "2024-11-11T17:16:48.200691",
     "status": "completed"
    },
    "tags": []
   },
   "outputs": [],
   "source": [
    "import google.generativeai as genai\n",
    "from IPython.display import HTML, Markdown, display"
   ]
  },
  {
   "cell_type": "markdown",
   "id": "f08fcf4b",
   "metadata": {
    "id": "DNEt2BCOvOJ1",
    "papermill": {
     "duration": 0.012149,
     "end_time": "2024-11-11T17:16:49.245111",
     "exception": false,
     "start_time": "2024-11-11T17:16:49.232962",
     "status": "completed"
    },
    "tags": []
   },
   "source": [
    "### Set up your API key\n",
    "\n",
    "To run the following cell, your API key must be stored it in a [Kaggle secret](https://www.kaggle.com/discussions/product-feedback/114053) named `GOOGLE_API_KEY`.\n",
    "\n",
    "If you don't already have an API key, you can grab one from [AI Studio](https://aistudio.google.com/app/apikey). You can find [detailed instructions in the docs](https://ai.google.dev/gemini-api/docs/api-key).\n",
    "\n",
    "To make the key available through Kaggle secrets, choose `Secrets` from the `Add-ons` menu and follow the instructions to add your key or enable it for this notebook."
   ]
  },
  {
   "cell_type": "code",
   "execution_count": 4,
   "id": "4d985b28",
   "metadata": {
    "execution": {
     "iopub.execute_input": "2024-11-11T17:16:49.272283Z",
     "iopub.status.busy": "2024-11-11T17:16:49.271453Z",
     "iopub.status.idle": "2024-11-11T17:16:49.568466Z",
     "shell.execute_reply": "2024-11-11T17:16:49.567404Z"
    },
    "id": "SHl0bkPCvayd",
    "papermill": {
     "duration": 0.312917,
     "end_time": "2024-11-11T17:16:49.570848",
     "exception": false,
     "start_time": "2024-11-11T17:16:49.257931",
     "status": "completed"
    },
    "tags": []
   },
   "outputs": [],
   "source": [
    "from kaggle_secrets import UserSecretsClient\n",
    "\n",
    "GOOGLE_API_KEY = UserSecretsClient().get_secret(\"GOOGLE_API_KEY\")\n",
    "genai.configure(api_key=GOOGLE_API_KEY)"
   ]
  },
  {
   "attachments": {},
   "cell_type": "markdown",
   "id": "fd02f5f5",
   "metadata": {
    "id": "4e720472fd86",
    "papermill": {
     "duration": 0.012195,
     "end_time": "2024-11-11T17:16:49.595740",
     "exception": false,
     "start_time": "2024-11-11T17:16:49.583545",
     "status": "completed"
    },
    "tags": []
   },
   "source": [
    "If you received an error response along the lines of `No user secrets exist for kernel id ...`, then you need to add your API key via `Add-ons`, `Secrets` **and** enable it.\n",
    "\n",
    "![Screenshot of the checkbox to enable GOOGLE_API_KEY secret](https://storage.googleapis.com/kaggle-media/Images/5gdai_sc_3.png)"
   ]
  },
  {
   "cell_type": "markdown",
   "id": "4d95f9a8",
   "metadata": {
    "id": "H_YXCYIKvyZJ",
    "papermill": {
     "duration": 0.01208,
     "end_time": "2024-11-11T17:16:49.620278",
     "exception": false,
     "start_time": "2024-11-11T17:16:49.608198",
     "status": "completed"
    },
    "tags": []
   },
   "source": [
    "### Run your first prompt\n",
    "\n",
    "In this step, you will test that your API key is set up correctly by making a request. The `gemini-1.5-flash` model has been selected here."
   ]
  },
  {
   "cell_type": "code",
   "execution_count": 5,
   "id": "1a04736f",
   "metadata": {
    "execution": {
     "iopub.execute_input": "2024-11-11T17:16:49.646637Z",
     "iopub.status.busy": "2024-11-11T17:16:49.646242Z",
     "iopub.status.idle": "2024-11-11T17:16:51.250665Z",
     "shell.execute_reply": "2024-11-11T17:16:51.249556Z"
    },
    "id": "BV1o0PmcvyJF",
    "papermill": {
     "duration": 1.620443,
     "end_time": "2024-11-11T17:16:51.253119",
     "exception": false,
     "start_time": "2024-11-11T17:16:49.632676",
     "status": "completed"
    },
    "tags": []
   },
   "outputs": [
    {
     "name": "stdout",
     "output_type": "stream",
     "text": [
      "Imagine you have a really smart friend who loves learning new things. This friend is called AI, short for Artificial Intelligence. \n",
      "\n",
      "AI is like a super-smart computer program that can do all sorts of amazing things, like:\n",
      "\n",
      "* **Playing games:** AI can play chess, checkers, and even video games better than most humans!\n",
      "* **Recognizing faces:** AI can tell who you are by looking at your face, even if you're wearing a hat or sunglasses!\n",
      "* **Translating languages:** AI can understand and translate languages, so you can talk to people from all over the world!\n",
      "* **Writing stories:** AI can even write stories, poems, and songs!\n",
      "\n",
      "AI learns by being shown lots of examples. Just like you learn by watching and listening, AI learns by looking at pictures, reading books, and listening to conversations. Then, it can use what it learned to do new things. \n",
      "\n",
      "AI is still learning and getting smarter every day! It helps us in so many ways, from making our lives easier to finding new solutions to big problems. \n",
      "\n",
      "Think of AI as a really cool and helpful friend who's always learning new things! \n",
      "\n"
     ]
    }
   ],
   "source": [
    "flash = genai.GenerativeModel('gemini-1.5-flash')\n",
    "response = flash.generate_content(\"Explain AI to me like I'm a kid.\")\n",
    "print(response.text)"
   ]
  },
  {
   "cell_type": "markdown",
   "id": "77f3f989",
   "metadata": {
    "id": "f60ed9d8ae41",
    "papermill": {
     "duration": 0.012025,
     "end_time": "2024-11-11T17:16:51.277676",
     "exception": false,
     "start_time": "2024-11-11T17:16:51.265651",
     "status": "completed"
    },
    "tags": []
   },
   "source": [
    "The response often comes back in markdown format, which you can render directly in this notebook."
   ]
  },
  {
   "cell_type": "code",
   "execution_count": 6,
   "id": "3059f031",
   "metadata": {
    "execution": {
     "iopub.execute_input": "2024-11-11T17:16:51.304164Z",
     "iopub.status.busy": "2024-11-11T17:16:51.303787Z",
     "iopub.status.idle": "2024-11-11T17:16:51.311363Z",
     "shell.execute_reply": "2024-11-11T17:16:51.310473Z"
    },
    "id": "c933e5e460a5",
    "papermill": {
     "duration": 0.023309,
     "end_time": "2024-11-11T17:16:51.313346",
     "exception": false,
     "start_time": "2024-11-11T17:16:51.290037",
     "status": "completed"
    },
    "tags": []
   },
   "outputs": [
    {
     "data": {
      "text/markdown": [
       "Imagine you have a really smart friend who loves learning new things. This friend is called AI, short for Artificial Intelligence. \n",
       "\n",
       "AI is like a super-smart computer program that can do all sorts of amazing things, like:\n",
       "\n",
       "* **Playing games:** AI can play chess, checkers, and even video games better than most humans!\n",
       "* **Recognizing faces:** AI can tell who you are by looking at your face, even if you're wearing a hat or sunglasses!\n",
       "* **Translating languages:** AI can understand and translate languages, so you can talk to people from all over the world!\n",
       "* **Writing stories:** AI can even write stories, poems, and songs!\n",
       "\n",
       "AI learns by being shown lots of examples. Just like you learn by watching and listening, AI learns by looking at pictures, reading books, and listening to conversations. Then, it can use what it learned to do new things. \n",
       "\n",
       "AI is still learning and getting smarter every day! It helps us in so many ways, from making our lives easier to finding new solutions to big problems. \n",
       "\n",
       "Think of AI as a really cool and helpful friend who's always learning new things! \n"
      ],
      "text/plain": [
       "<IPython.core.display.Markdown object>"
      ]
     },
     "execution_count": 6,
     "metadata": {},
     "output_type": "execute_result"
    }
   ],
   "source": [
    "Markdown(response.text)"
   ]
  },
  {
   "cell_type": "markdown",
   "id": "7b1aa082",
   "metadata": {
    "id": "byx0pT9ZMW2Q",
    "papermill": {
     "duration": 0.012121,
     "end_time": "2024-11-11T17:16:51.337907",
     "exception": false,
     "start_time": "2024-11-11T17:16:51.325786",
     "status": "completed"
    },
    "tags": []
   },
   "source": [
    "### Start a chat\n",
    "\n",
    "The previous example uses a single-turn, text-in/text-out structure, but you can also set up a multi-turn chat structure too."
   ]
  },
  {
   "cell_type": "code",
   "execution_count": 7,
   "id": "e591385c",
   "metadata": {
    "execution": {
     "iopub.execute_input": "2024-11-11T17:16:51.364068Z",
     "iopub.status.busy": "2024-11-11T17:16:51.363668Z",
     "iopub.status.idle": "2024-11-11T17:16:52.424376Z",
     "shell.execute_reply": "2024-11-11T17:16:52.423244Z"
    },
    "id": "lV_S5ZL5MidD",
    "papermill": {
     "duration": 1.076358,
     "end_time": "2024-11-11T17:16:52.426632",
     "exception": false,
     "start_time": "2024-11-11T17:16:51.350274",
     "status": "completed"
    },
    "tags": []
   },
   "outputs": [
    {
     "name": "stdout",
     "output_type": "stream",
     "text": [
      "Hello Zlork! It's nice to meet you. What can I do for you today? 😊 \n",
      "\n"
     ]
    }
   ],
   "source": [
    "chat = flash.start_chat(history=[])\n",
    "response = chat.send_message('Hello! My name is Zlork.')\n",
    "print(response.text)"
   ]
  },
  {
   "cell_type": "code",
   "execution_count": 8,
   "id": "ed53647b",
   "metadata": {
    "execution": {
     "iopub.execute_input": "2024-11-11T17:16:52.454045Z",
     "iopub.status.busy": "2024-11-11T17:16:52.453640Z",
     "iopub.status.idle": "2024-11-11T17:16:53.544092Z",
     "shell.execute_reply": "2024-11-11T17:16:53.543089Z"
    },
    "id": "7b0372c3c64a",
    "papermill": {
     "duration": 1.106995,
     "end_time": "2024-11-11T17:16:53.546665",
     "exception": false,
     "start_time": "2024-11-11T17:16:52.439670",
     "status": "completed"
    },
    "tags": []
   },
   "outputs": [
    {
     "name": "stdout",
     "output_type": "stream",
     "text": [
      "You bet! Dinosaurs are endlessly fascinating. Here's a fun fact:\n",
      "\n",
      "**Did you know that some dinosaurs had feathers?**\n",
      "\n",
      "While we often picture dinosaurs as scaly behemoths, many species, especially those closely related to birds, actually sported feathers. These feathers weren't just for show; they played a role in insulation, display, and even flight in some species.\n",
      "\n",
      "This discovery has revolutionized our understanding of dinosaur evolution and the origin of birds. It's like finding a missing link between dinosaurs and the birds we see today! \n",
      "\n",
      "What else would you like to know about dinosaurs? Maybe something about their diet, size, or how they went extinct? 🦖 \n",
      "\n"
     ]
    }
   ],
   "source": [
    "response = chat.send_message('Can you tell something interesting about dinosaurs?')\n",
    "print(response.text)"
   ]
  },
  {
   "cell_type": "code",
   "execution_count": 9,
   "id": "f9a33312",
   "metadata": {
    "execution": {
     "iopub.execute_input": "2024-11-11T17:16:53.575473Z",
     "iopub.status.busy": "2024-11-11T17:16:53.575102Z",
     "iopub.status.idle": "2024-11-11T17:16:54.844042Z",
     "shell.execute_reply": "2024-11-11T17:16:54.842588Z"
    },
    "id": "d3f9591392a7",
    "papermill": {
     "duration": 1.285951,
     "end_time": "2024-11-11T17:16:54.846167",
     "exception": false,
     "start_time": "2024-11-11T17:16:53.560216",
     "status": "completed"
    },
    "tags": []
   },
   "outputs": [
    {
     "name": "stdout",
     "output_type": "stream",
     "text": [
      "Of course! Your name is Zlork. 😊  I have a good memory, especially for names. It's important to remember who I'm talking to! \n",
      "\n",
      "Is there anything else I can help you with today? \n",
      "\n"
     ]
    }
   ],
   "source": [
    "# While you have the `chat` object around, the conversation state\n",
    "# persists. Confirm that by asking if it knows my name.\n",
    "response = chat.send_message('Do you remember what my name is?')\n",
    "print(response.text)"
   ]
  },
  {
   "cell_type": "markdown",
   "id": "8d7e0eda",
   "metadata": {
    "id": "2KAjpr1200sW",
    "papermill": {
     "duration": 0.012792,
     "end_time": "2024-11-11T17:16:54.872114",
     "exception": false,
     "start_time": "2024-11-11T17:16:54.859322",
     "status": "completed"
    },
    "tags": []
   },
   "source": [
    "### Choose a model\n",
    "\n",
    "The Gemini API provides access to a number of models from the Gemini model family. Read about the available models and their capabilities on the [model overview page](https://ai.google.dev/gemini-api/docs/models/gemini).\n",
    "\n",
    "In this step you'll use the API to list all of the available models."
   ]
  },
  {
   "cell_type": "code",
   "execution_count": 10,
   "id": "80719b3d",
   "metadata": {
    "execution": {
     "iopub.execute_input": "2024-11-11T17:16:54.900164Z",
     "iopub.status.busy": "2024-11-11T17:16:54.899262Z",
     "iopub.status.idle": "2024-11-11T17:16:55.675656Z",
     "shell.execute_reply": "2024-11-11T17:16:55.674512Z"
    },
    "id": "uUUZa2uq2jDm",
    "papermill": {
     "duration": 0.792852,
     "end_time": "2024-11-11T17:16:55.678081",
     "exception": false,
     "start_time": "2024-11-11T17:16:54.885229",
     "status": "completed"
    },
    "tags": []
   },
   "outputs": [
    {
     "name": "stdout",
     "output_type": "stream",
     "text": [
      "models/chat-bison-001\n",
      "models/text-bison-001\n",
      "models/embedding-gecko-001\n",
      "models/gemini-1.0-pro-latest\n",
      "models/gemini-1.0-pro\n",
      "models/gemini-pro\n",
      "models/gemini-1.0-pro-001\n",
      "models/gemini-1.0-pro-vision-latest\n",
      "models/gemini-pro-vision\n",
      "models/gemini-1.5-pro-latest\n",
      "models/gemini-1.5-pro-001\n",
      "models/gemini-1.5-pro-002\n",
      "models/gemini-1.5-pro\n",
      "models/gemini-1.5-pro-exp-0801\n",
      "models/gemini-1.5-pro-exp-0827\n",
      "models/gemini-1.5-flash-latest\n",
      "models/gemini-1.5-flash-001\n",
      "models/gemini-1.5-flash-001-tuning\n",
      "models/gemini-1.5-flash\n",
      "models/gemini-1.5-flash-exp-0827\n",
      "models/gemini-1.5-flash-002\n",
      "models/gemini-1.5-flash-8b\n",
      "models/gemini-1.5-flash-8b-001\n",
      "models/gemini-1.5-flash-8b-latest\n",
      "models/gemini-1.5-flash-8b-exp-0827\n",
      "models/gemini-1.5-flash-8b-exp-0924\n",
      "models/embedding-001\n",
      "models/text-embedding-004\n",
      "models/aqa\n"
     ]
    }
   ],
   "source": [
    "for model in genai.list_models():\n",
    "  print(model.name)"
   ]
  },
  {
   "cell_type": "markdown",
   "id": "e719f32f",
   "metadata": {
    "id": "rN49kSI54R1v",
    "papermill": {
     "duration": 0.012805,
     "end_time": "2024-11-11T17:16:55.704632",
     "exception": false,
     "start_time": "2024-11-11T17:16:55.691827",
     "status": "completed"
    },
    "tags": []
   },
   "source": [
    "The [`models.list`](https://ai.google.dev/api/models#method:-models.list) response also returns additional information about the model's capabilities, like the token limits and supported parameters."
   ]
  },
  {
   "cell_type": "code",
   "execution_count": 11,
   "id": "27fe3efa",
   "metadata": {
    "execution": {
     "iopub.execute_input": "2024-11-11T17:16:55.732918Z",
     "iopub.status.busy": "2024-11-11T17:16:55.732042Z",
     "iopub.status.idle": "2024-11-11T17:16:56.018106Z",
     "shell.execute_reply": "2024-11-11T17:16:56.016769Z"
    },
    "id": "k7JJ1K6j4Rl8",
    "papermill": {
     "duration": 0.302792,
     "end_time": "2024-11-11T17:16:56.020648",
     "exception": false,
     "start_time": "2024-11-11T17:16:55.717856",
     "status": "completed"
    },
    "tags": []
   },
   "outputs": [
    {
     "name": "stdout",
     "output_type": "stream",
     "text": [
      "Model(name='models/gemini-1.5-flash',\n",
      "      base_model_id='',\n",
      "      version='001',\n",
      "      display_name='Gemini 1.5 Flash',\n",
      "      description='Fast and versatile multimodal model for scaling across diverse tasks',\n",
      "      input_token_limit=1000000,\n",
      "      output_token_limit=8192,\n",
      "      supported_generation_methods=['generateContent', 'countTokens'],\n",
      "      temperature=1.0,\n",
      "      max_temperature=2.0,\n",
      "      top_p=0.95,\n",
      "      top_k=40)\n"
     ]
    }
   ],
   "source": [
    "for model in genai.list_models():\n",
    "  if model.name == 'models/gemini-1.5-flash':\n",
    "    print(model)\n",
    "    break"
   ]
  },
  {
   "cell_type": "markdown",
   "id": "06c74dd1",
   "metadata": {
    "id": "5rU_UBlZdooM",
    "papermill": {
     "duration": 0.013104,
     "end_time": "2024-11-11T17:16:56.047431",
     "exception": false,
     "start_time": "2024-11-11T17:16:56.034327",
     "status": "completed"
    },
    "tags": []
   },
   "source": [
    "## Explore generation parameters\n",
    "\n"
   ]
  },
  {
   "cell_type": "markdown",
   "id": "8cc0c92f",
   "metadata": {
    "id": "G7NfEizeipbW",
    "papermill": {
     "duration": 0.013066,
     "end_time": "2024-11-11T17:16:56.074036",
     "exception": false,
     "start_time": "2024-11-11T17:16:56.060970",
     "status": "completed"
    },
    "tags": []
   },
   "source": [
    "### Output length\n",
    "\n",
    "When generating text with an LLM, the output length affects cost and performance. Generating more tokens increases computation, leading to higher energy consumption, latency, and cost.\n",
    "\n",
    "To stop the model from generating tokens past a limit, you can specify the `max_output_length` parameter when using the Gemini API. Specifying this parameter does not influence the generation of the output tokens, so the output will not become more stylistically or textually succinct, but it will stop generating tokens once the specified length is reached. Prompt engineering may be required to generate a more complete output for your given limit."
   ]
  },
  {
   "cell_type": "code",
   "execution_count": 12,
   "id": "6f24bf6d",
   "metadata": {
    "execution": {
     "iopub.execute_input": "2024-11-11T17:16:56.102965Z",
     "iopub.status.busy": "2024-11-11T17:16:56.102053Z",
     "iopub.status.idle": "2024-11-11T17:16:57.590606Z",
     "shell.execute_reply": "2024-11-11T17:16:57.589618Z"
    },
    "id": "qVf23JsIi9ma",
    "papermill": {
     "duration": 1.505497,
     "end_time": "2024-11-11T17:16:57.592974",
     "exception": false,
     "start_time": "2024-11-11T17:16:56.087477",
     "status": "completed"
    },
    "tags": []
   },
   "outputs": [
    {
     "name": "stdout",
     "output_type": "stream",
     "text": [
      "## The Olive: A Tiny Fruit with Immense Impact in Modern Society\n",
      "\n",
      "From the sun-drenched groves of the Mediterranean to the bustling supermarkets of global cities, the olive has journeyed far, its journey mirroring its impact on modern society. This unassuming fruit, often overlooked for its seemingly simple nature, holds within its small, fleshy form a complex tapestry of cultural, economic, and environmental significance. Far from being just a tasty snack or a garnish on a plate, the olive, in its multifaceted forms, plays a crucial role in shaping our modern world.\n",
      "\n",
      "**A Culinary Legacy and Global Delicacy:** The olive's contribution to cuisine is undeniable. From the iconic Greek Kalamata to the delicate Manzanillo of Spain, olives offer a spectrum of flavors, textures, and culinary applications. They are integral to Mediterranean diets, where they have been consumed for centuries, and have steadily gained popularity worldwide. The versatility of olives shines through in their diverse forms – pickled, stuffed, roasted,\n"
     ]
    }
   ],
   "source": [
    "short_model = genai.GenerativeModel(\n",
    "    'gemini-1.5-flash',\n",
    "    generation_config=genai.GenerationConfig(max_output_tokens=200))\n",
    "\n",
    "response = short_model.generate_content('Write a 1000 word essay on the importance of olives in modern society.')\n",
    "print(response.text)"
   ]
  },
  {
   "cell_type": "code",
   "execution_count": 13,
   "id": "ca808879",
   "metadata": {
    "execution": {
     "iopub.execute_input": "2024-11-11T17:16:57.621927Z",
     "iopub.status.busy": "2024-11-11T17:16:57.621513Z",
     "iopub.status.idle": "2024-11-11T17:16:58.959035Z",
     "shell.execute_reply": "2024-11-11T17:16:58.957962Z"
    },
    "id": "W-3kR2F5kdMR",
    "papermill": {
     "duration": 1.355174,
     "end_time": "2024-11-11T17:16:58.962043",
     "exception": false,
     "start_time": "2024-11-11T17:16:57.606869",
     "status": "completed"
    },
    "tags": []
   },
   "outputs": [
    {
     "name": "stdout",
     "output_type": "stream",
     "text": [
      "From sun-drenched groves, a bounty bright,\n",
      "The olive, a gift, both day and night.\n",
      "A briny taste, a savory delight,\n",
      "A symbol of peace, a culinary light.\n",
      "\n",
      "From ancient times, its oil we prize,\n",
      "For cooking, for health, for shining eyes.\n",
      "Its leaves, a cure, its fruit, a prize,\n",
      "In modern kitchens, its presence flies.\n",
      "\n",
      "On pizzas, salads, and bread it sits,\n",
      "A flavor so rich, it truly hits.\n",
      "From tapas to dips, it never quits,\n",
      "The olive, a friend, our palate it fits.\n",
      "\n",
      "So raise a glass, to this humble fruit,\n",
      "A symbol of bounty, forever to boot.\n",
      "For in our modern world, we cannot refute,\n",
      "The importance of olives, a culinary loot. \n",
      "\n"
     ]
    }
   ],
   "source": [
    "response = short_model.generate_content('Write a short poem on the importance of olives in modern society.')\n",
    "print(response.text)"
   ]
  },
  {
   "cell_type": "markdown",
   "id": "ee5c783a",
   "metadata": {
    "id": "3ZhDSLB6lqqB",
    "papermill": {
     "duration": 0.013688,
     "end_time": "2024-11-11T17:16:58.990002",
     "exception": false,
     "start_time": "2024-11-11T17:16:58.976314",
     "status": "completed"
    },
    "tags": []
   },
   "source": [
    "Explore with your own prompts. Try a prompt with a restrictive output limit and then adjust the prompt to work within that limit."
   ]
  },
  {
   "cell_type": "markdown",
   "id": "1de51489",
   "metadata": {
    "id": "alx-WaAvir_9",
    "papermill": {
     "duration": 0.015875,
     "end_time": "2024-11-11T17:16:59.019252",
     "exception": false,
     "start_time": "2024-11-11T17:16:59.003377",
     "status": "completed"
    },
    "tags": []
   },
   "source": [
    "### Temperature\n",
    "\n",
    "Temperature controls the degree of randomness in token selection. Higher temperatures result in a higher number of candidate tokens from which the next output token is selected, and can produce more diverse results, while lower temperatures have the opposite effect, such that a temperature of 0 results in greedy decoding, selecting the most probable token at each step.\n",
    "\n",
    "Temperature doesn't provide any guarantees of randomness, but it can be used to \"nudge\" the output somewhat."
   ]
  },
  {
   "cell_type": "raw",
   "id": "39e268d3",
   "metadata": {
    "execution": {
     "iopub.execute_input": "2024-11-11T17:10:57.472676Z",
     "iopub.status.busy": "2024-11-11T17:10:57.471655Z",
     "iopub.status.idle": "2024-11-11T17:10:57.478565Z",
     "shell.execute_reply": "2024-11-11T17:10:57.477083Z",
     "shell.execute_reply.started": "2024-11-11T17:10:57.472632Z"
    },
    "papermill": {
     "duration": 0.013172,
     "end_time": "2024-11-11T17:16:59.047966",
     "exception": false,
     "start_time": "2024-11-11T17:16:59.034794",
     "status": "completed"
    },
    "tags": []
   },
   "source": [
    "from google.api_core import retry\n",
    "retry_policy = {\"retry\": retry.Retry(predicate=retry.if_transient_error)}"
   ]
  },
  {
   "cell_type": "raw",
   "id": "9238c8d8",
   "metadata": {
    "execution": {
     "iopub.execute_input": "2024-11-11T17:11:28.168547Z",
     "iopub.status.busy": "2024-11-11T17:11:28.167319Z",
     "iopub.status.idle": "2024-11-11T17:14:14.381013Z",
     "shell.execute_reply": "2024-11-11T17:14:14.378858Z",
     "shell.execute_reply.started": "2024-11-11T17:11:28.168498Z"
    },
    "id": "SHraGMzqnZqt",
    "papermill": {
     "duration": 0.013021,
     "end_time": "2024-11-11T17:16:59.074369",
     "exception": false,
     "start_time": "2024-11-11T17:16:59.061348",
     "status": "completed"
    },
    "tags": []
   },
   "source": [
    "import time\n",
    "\n",
    "high_temp_model = genai.GenerativeModel(\n",
    "    'gemini-1.5-flash',\n",
    "    generation_config=genai.GenerationConfig(temperature=2.0))\n",
    "\n",
    "for _ in range(3):\n",
    "  response = high_temp_model.generate_content(\n",
    "      'Pick a random colour... (answer in a single word)', \n",
    "      request_options=retry_policy,\n",
    "  )\n",
    "  if response.parts:\n",
    "    print(response.text, '-' * 25)\n",
    "\n",
    "  # Slow down a bit so we don't get Resource Exhausted errors.\n",
    "  time.sleep(60)"
   ]
  },
  {
   "cell_type": "markdown",
   "id": "e7fe2265",
   "metadata": {
    "id": "z3J4pCTuof7e",
    "papermill": {
     "duration": 0.012992,
     "end_time": "2024-11-11T17:16:59.100837",
     "exception": false,
     "start_time": "2024-11-11T17:16:59.087845",
     "status": "completed"
    },
    "tags": []
   },
   "source": [
    "Now try the same prompt with temperature set to zero. Note that the output is not completely deterministic, as other parameters affect token selection, but the results will tend to be more stable."
   ]
  },
  {
   "cell_type": "raw",
   "id": "e0807a02",
   "metadata": {
    "execution": {
     "iopub.status.busy": "2024-11-11T17:10:04.842503Z",
     "iopub.status.idle": "2024-11-11T17:10:04.843021Z",
     "shell.execute_reply": "2024-11-11T17:10:04.842793Z",
     "shell.execute_reply.started": "2024-11-11T17:10:04.842770Z"
    },
    "id": "clymkWv-PfUZ",
    "papermill": {
     "duration": 0.017062,
     "end_time": "2024-11-11T17:16:59.132116",
     "exception": false,
     "start_time": "2024-11-11T17:16:59.115054",
     "status": "completed"
    },
    "tags": []
   },
   "source": [
    "low_temp_model = genai.GenerativeModel(\n",
    "    'gemini-1.5-flash',\n",
    "    generation_config=genai.GenerationConfig(temperature=0.0))\n",
    "\n",
    "for _ in range(4):\n",
    "  response = low_temp_model.generate_content('Pick a random colour... (answer in a single word)')\n",
    "  if response.parts:\n",
    "    print(response.text, '-' * 25)\n",
    "\n",
    "  time.sleep(60)"
   ]
  },
  {
   "cell_type": "markdown",
   "id": "9ddaaf43",
   "metadata": {
    "id": "St5nt3vzitsZ",
    "papermill": {
     "duration": 0.019689,
     "end_time": "2024-11-11T17:16:59.170026",
     "exception": false,
     "start_time": "2024-11-11T17:16:59.150337",
     "status": "completed"
    },
    "tags": []
   },
   "source": [
    "### Top-K and top-P\n",
    "\n",
    "Like temperature, top-K and top-P parameters are also used to control the diversity of the model's output.\n",
    "\n",
    "Top-K is a positive integer that defines the number of most probable tokens from which to select the output token. A top-K of 1 selects a single token, performing greedy decoding.\n",
    "\n",
    "Top-P defines the probability threshold that, once cumulatively exceeded, tokens stop being selected as candidates. A top-P of 0 is typically equivalent to greedy decoding, and a top-P of 1 typically selects every token in the model's vocabulary.\n",
    "\n",
    "When both are supplied, the Gemini API will filter top-K tokens first, then top-P and then finally sample from the candidate tokens using the supplied temperature.\n",
    "\n",
    "Run this example a number of times, change the settings and observe the change in output."
   ]
  },
  {
   "cell_type": "code",
   "execution_count": 14,
   "id": "33b2fd9b",
   "metadata": {
    "execution": {
     "iopub.execute_input": "2024-11-11T17:16:59.205068Z",
     "iopub.status.busy": "2024-11-11T17:16:59.204337Z",
     "iopub.status.idle": "2024-11-11T17:17:02.150334Z",
     "shell.execute_reply": "2024-11-11T17:17:02.149268Z"
    },
    "id": "lPlzpEavUV8F",
    "papermill": {
     "duration": 2.965954,
     "end_time": "2024-11-11T17:17:02.152417",
     "exception": false,
     "start_time": "2024-11-11T17:16:59.186463",
     "status": "completed"
    },
    "tags": []
   },
   "outputs": [
    {
     "name": "stdout",
     "output_type": "stream",
     "text": [
      "Bartholomew the tabby had always dreamed of adventure. He lived a comfortable life in a cozy cottage, with a loving family and a never-ending supply of tuna. But the world outside his window, with its swirling leaves and chirping birds, held a siren's call. One day, his chance arrived. \n",
      "\n",
      "The back gate creaked open, left ajar by a distracted human. Bartholomew, his whiskers twitching with excitement, slipped through. The world outside was a symphony of smells: damp earth, blooming honeysuckle, and the faint, alluring scent of… fish? He followed his nose, a blur of orange fur in the dappled sunlight.\n",
      "\n",
      "His adventure led him through a labyrinth of overgrown gardens, past slumbering dogs and startled squirrels. He scaled a towering fence, a feat that earned him a chorus of \"meow\"s from admiring cats on the other side. Finally, he reached his destination: a bustling fish market, the air thick with the aroma of brine and sea.\n",
      "\n",
      "His eyes widened as he saw the glistening bounty: salmon, cod, tuna, even a monstrous shark fin. But before he could indulge in a fishy feast, a stern-faced woman with a broom chased him away. He darted through the legs of shoppers, a flurry of orange and black, narrowly escaping a collision with a trolley. \n",
      "\n",
      "Disappointed but undeterred, Bartholomew found himself in a park, the sun sinking low in the sky. He curled up in a bed of fragrant lavender, watching the world go by. He saw children playing, lovers whispering, and old men feeding pigeons. He felt a strange contentment, a sense of belonging that he had never experienced before.\n",
      "\n",
      "As dusk settled, Bartholomew knew it was time to go home. He slipped back through the open gate, his heart full of newfound stories. He padded into the kitchen, greeted by the familiar warmth of his family. He rubbed against their legs, purring a contented melody, a seasoned adventurer returning home.\n",
      "\n",
      "The next morning, Bartholomew found a new feather toy on the floor. He batted it with his paw, a mischievous glint in his eye. He was a cat of many talents, he realized. A hunter, a traveler, but most importantly, a beloved member of his family. And the world, with all its adventures, would always be there, waiting for him, just beyond his window. \n",
      "\n"
     ]
    }
   ],
   "source": [
    "model = genai.GenerativeModel(\n",
    "    'gemini-1.5-flash-001',\n",
    "    generation_config=genai.GenerationConfig(\n",
    "        # These are the default values for gemini-1.5-flash-001.\n",
    "        temperature=1.0,\n",
    "        top_k=64,\n",
    "        top_p=0.95,\n",
    "    ))\n",
    "\n",
    "story_prompt = \"You are a creative writer. Write a short story about a cat who goes on an adventure.\"\n",
    "response = model.generate_content(story_prompt)\n",
    "print(response.text)"
   ]
  },
  {
   "cell_type": "markdown",
   "id": "928ea3f8",
   "metadata": {
    "id": "rMrYs1koY6DX",
    "papermill": {
     "duration": 0.0148,
     "end_time": "2024-11-11T17:17:02.180964",
     "exception": false,
     "start_time": "2024-11-11T17:17:02.166164",
     "status": "completed"
    },
    "tags": []
   },
   "source": [
    "## Prompting\n",
    "\n",
    "This section contains some prompts from the chapter for you to try out directly in the API. Try changing the text here to see how each prompt performs with different instructions, more examples, or any other changes you can think of."
   ]
  },
  {
   "cell_type": "markdown",
   "id": "94358ae8",
   "metadata": {
    "id": "hhj_tQidZJP7",
    "papermill": {
     "duration": 0.013624,
     "end_time": "2024-11-11T17:17:02.208092",
     "exception": false,
     "start_time": "2024-11-11T17:17:02.194468",
     "status": "completed"
    },
    "tags": []
   },
   "source": [
    "### Zero-shot\n",
    "\n",
    "Zero-shot prompts are prompts that describe the request for the model directly.\n",
    "\n",
    "<table align=left>\n",
    "  <td>\n",
    "    <a target=\"_blank\" href=\"https://aistudio.google.com/prompts/1gzKKgDHwkAvexG5Up0LMtl1-6jKMKe4g\"><img src=\"https://ai.google.dev/site-assets/images/marketing/home/icon-ais.png\" style=\"height: 24px\" height=24/> Open in AI Studio</a>\n",
    "  </td>\n",
    "</table>"
   ]
  },
  {
   "cell_type": "code",
   "execution_count": 15,
   "id": "7bfbc6fd",
   "metadata": {
    "execution": {
     "iopub.execute_input": "2024-11-11T17:17:02.236801Z",
     "iopub.status.busy": "2024-11-11T17:17:02.235991Z",
     "iopub.status.idle": "2024-11-11T17:17:03.260976Z",
     "shell.execute_reply": "2024-11-11T17:17:03.259781Z"
    },
    "id": "1_t-cwnDZzbH",
    "papermill": {
     "duration": 1.041846,
     "end_time": "2024-11-11T17:17:03.263281",
     "exception": false,
     "start_time": "2024-11-11T17:17:02.221435",
     "status": "completed"
    },
    "tags": []
   },
   "outputs": [
    {
     "name": "stdout",
     "output_type": "stream",
     "text": [
      "Sentiment: **POSITIVE**\n"
     ]
    }
   ],
   "source": [
    "model = genai.GenerativeModel(\n",
    "    'gemini-1.5-flash-001',\n",
    "    generation_config=genai.GenerationConfig(\n",
    "        temperature=0.1,\n",
    "        top_p=1,\n",
    "        max_output_tokens=5,\n",
    "    ))\n",
    "\n",
    "zero_shot_prompt = \"\"\"Classify movie reviews as POSITIVE, NEUTRAL or NEGATIVE.\n",
    "Review: \"Her\" is a disturbing study revealing the direction\n",
    "humanity is headed if AI is allowed to keep evolving,\n",
    "unchecked. I wish there were more movies like this masterpiece.\n",
    "Sentiment: \"\"\"\n",
    "\n",
    "response = model.generate_content(zero_shot_prompt)\n",
    "print(response.text)"
   ]
  },
  {
   "cell_type": "markdown",
   "id": "054ffc6d",
   "metadata": {
    "id": "3b5568bdeb11",
    "papermill": {
     "duration": 0.013336,
     "end_time": "2024-11-11T17:17:03.290238",
     "exception": false,
     "start_time": "2024-11-11T17:17:03.276902",
     "status": "completed"
    },
    "tags": []
   },
   "source": [
    "#### Enum mode\n",
    "\n",
    "The models are trained to generate text, and can sometimes produce more text than you may wish for. In the preceding example, the model will output the label, sometimes it can include a preceding \"Sentiment\" label, and without an output token limit, it may also add explanatory text afterwards.\n",
    "\n",
    "The Gemini API has an [Enum mode](https://github.com/google-gemini/cookbook/blob/main/quickstarts/Enum.ipynb) feature that allows you to constrain the output to a fixed set of values."
   ]
  },
  {
   "cell_type": "code",
   "execution_count": 16,
   "id": "75e32bf5",
   "metadata": {
    "execution": {
     "iopub.execute_input": "2024-11-11T17:17:03.318815Z",
     "iopub.status.busy": "2024-11-11T17:17:03.318409Z",
     "iopub.status.idle": "2024-11-11T17:17:04.498270Z",
     "shell.execute_reply": "2024-11-11T17:17:04.496942Z"
    },
    "id": "ad118a56c598",
    "papermill": {
     "duration": 1.196775,
     "end_time": "2024-11-11T17:17:04.500486",
     "exception": false,
     "start_time": "2024-11-11T17:17:03.303711",
     "status": "completed"
    },
    "tags": []
   },
   "outputs": [
    {
     "name": "stdout",
     "output_type": "stream",
     "text": [
      "positive\n"
     ]
    }
   ],
   "source": [
    "import enum\n",
    "\n",
    "class Sentiment(enum.Enum):\n",
    "    POSITIVE = \"positive\"\n",
    "    NEUTRAL = \"neutral\"\n",
    "    NEGATIVE = \"negative\"\n",
    "\n",
    "\n",
    "model = genai.GenerativeModel(\n",
    "    'gemini-1.5-flash-001',\n",
    "    generation_config=genai.GenerationConfig(\n",
    "        response_mime_type=\"text/x.enum\",\n",
    "        response_schema=Sentiment\n",
    "    ))\n",
    "\n",
    "response = model.generate_content(zero_shot_prompt)\n",
    "print(response.text)"
   ]
  },
  {
   "cell_type": "markdown",
   "id": "7c1c4e94",
   "metadata": {
    "id": "0udiSwNbv45W",
    "papermill": {
     "duration": 0.013199,
     "end_time": "2024-11-11T17:17:04.527499",
     "exception": false,
     "start_time": "2024-11-11T17:17:04.514300",
     "status": "completed"
    },
    "tags": []
   },
   "source": [
    "### One-shot and few-shot\n",
    "\n",
    "Providing an example of the expected response is known as a \"one-shot\" prompt. When you provide multiple examples, it is a \"few-shot\" prompt.\n",
    "\n",
    "<table align=left>\n",
    "  <td>\n",
    "    <a target=\"_blank\" href=\"https://aistudio.google.com/prompts/1jjWkjUSoMXmLvMJ7IzADr_GxHPJVV2bg\"><img src=\"https://ai.google.dev/site-assets/images/marketing/home/icon-ais.png\" style=\"height: 24px\" height=24/> Open in AI Studio</a>\n",
    "  </td>\n",
    "</table>\n"
   ]
  },
  {
   "cell_type": "code",
   "execution_count": 17,
   "id": "9d408780",
   "metadata": {
    "execution": {
     "iopub.execute_input": "2024-11-11T17:17:04.556576Z",
     "iopub.status.busy": "2024-11-11T17:17:04.555658Z",
     "iopub.status.idle": "2024-11-11T17:17:05.111357Z",
     "shell.execute_reply": "2024-11-11T17:17:05.110328Z"
    },
    "id": "hd4mVUukwOKZ",
    "papermill": {
     "duration": 0.572631,
     "end_time": "2024-11-11T17:17:05.113698",
     "exception": false,
     "start_time": "2024-11-11T17:17:04.541067",
     "status": "completed"
    },
    "tags": []
   },
   "outputs": [
    {
     "name": "stdout",
     "output_type": "stream",
     "text": [
      "```json\n",
      "{\n",
      "\"size\": \"large\",\n",
      "\"type\": \"normal\",\n",
      "\"ingredients\": [\"cheese\", \"pineapple\"]\n",
      "}\n",
      "``` \n",
      "\n"
     ]
    }
   ],
   "source": [
    "model = genai.GenerativeModel(\n",
    "    'gemini-1.5-flash-latest',\n",
    "    generation_config=genai.GenerationConfig(\n",
    "        temperature=0.1,\n",
    "        top_p=1,\n",
    "        max_output_tokens=250,\n",
    "    ))\n",
    "\n",
    "few_shot_prompt = \"\"\"Parse a customer's pizza order into valid JSON:\n",
    "\n",
    "EXAMPLE:\n",
    "I want a small pizza with cheese, tomato sauce, and pepperoni.\n",
    "JSON Response:\n",
    "```\n",
    "{\n",
    "\"size\": \"small\",\n",
    "\"type\": \"normal\",\n",
    "\"ingredients\": [\"cheese\", \"tomato sauce\", \"peperoni\"]\n",
    "}\n",
    "```\n",
    "\n",
    "EXAMPLE:\n",
    "Can I get a large pizza with tomato sauce, basil and mozzarella\n",
    "JSON Response:\n",
    "```\n",
    "{\n",
    "\"size\": \"large\",\n",
    "\"type\": \"normal\",\n",
    "\"ingredients\": [\"tomato sauce\", \"basil\", \"mozzarella\"]\n",
    "}\n",
    "\n",
    "ORDER:\n",
    "\"\"\"\n",
    "\n",
    "customer_order = \"Give me a large with cheese & pineapple\"\n",
    "\n",
    "\n",
    "response = model.generate_content([few_shot_prompt, customer_order])\n",
    "print(response.text)"
   ]
  },
  {
   "cell_type": "markdown",
   "id": "f47c5e2f",
   "metadata": {
    "id": "021293096f08",
    "papermill": {
     "duration": 0.013395,
     "end_time": "2024-11-11T17:17:05.141121",
     "exception": false,
     "start_time": "2024-11-11T17:17:05.127726",
     "status": "completed"
    },
    "tags": []
   },
   "source": [
    "#### JSON mode\n",
    "\n",
    "To provide control over the schema, and to ensure that you only receive JSON (with no other text or markdown), you can use the Gemini API's [JSON mode](https://github.com/google-gemini/cookbook/blob/main/quickstarts/JSON_mode.ipynb). This forces the model to constrain decoding, such that token selection is guided by the supplied schema."
   ]
  },
  {
   "cell_type": "code",
   "execution_count": 18,
   "id": "60d68fa7",
   "metadata": {
    "execution": {
     "iopub.execute_input": "2024-11-11T17:17:05.170710Z",
     "iopub.status.busy": "2024-11-11T17:17:05.169902Z",
     "iopub.status.idle": "2024-11-11T17:17:05.753604Z",
     "shell.execute_reply": "2024-11-11T17:17:05.752510Z"
    },
    "id": "50fbf0260912",
    "papermill": {
     "duration": 0.601004,
     "end_time": "2024-11-11T17:17:05.755807",
     "exception": false,
     "start_time": "2024-11-11T17:17:05.154803",
     "status": "completed"
    },
    "tags": []
   },
   "outputs": [
    {
     "name": "stdout",
     "output_type": "stream",
     "text": [
      "{\"ingredients\": [\"apple\", \"chocolate\"], \"size\": \"large\", \"type\": \"dessert\"}\n",
      "\n"
     ]
    }
   ],
   "source": [
    "import typing_extensions as typing\n",
    "\n",
    "class PizzaOrder(typing.TypedDict):\n",
    "    size: str\n",
    "    ingredients: list[str]\n",
    "    type: str\n",
    "\n",
    "\n",
    "model = genai.GenerativeModel(\n",
    "    'gemini-1.5-flash-latest',\n",
    "    generation_config=genai.GenerationConfig(\n",
    "        temperature=0.1,\n",
    "        response_mime_type=\"application/json\",\n",
    "        response_schema=PizzaOrder,\n",
    "    ))\n",
    "\n",
    "response = model.generate_content(\"Can I have a large dessert pizza with apple and chocolate\")\n",
    "print(response.text)"
   ]
  },
  {
   "cell_type": "markdown",
   "id": "c0f1ef31",
   "metadata": {
    "id": "4a93e338e57c",
    "papermill": {
     "duration": 0.013499,
     "end_time": "2024-11-11T17:17:05.783313",
     "exception": false,
     "start_time": "2024-11-11T17:17:05.769814",
     "status": "completed"
    },
    "tags": []
   },
   "source": [
    "### Chain of Thought (CoT)\n",
    "\n",
    "Direct prompting on LLMs can return answers quickly and (in terms of output token usage) efficiently, but they can be prone to hallucination. The answer may \"look\" correct (in terms of language and syntax) but is incorrect in terms of factuality and reasoning.\n",
    "\n",
    "Chain-of-Thought prompting is a technique where you instruct the model to output intermediate reasoning steps, and it typically gets better results, especially when combined with few-shot examples. It is worth noting that this technique doesn't completely eliminate hallucinations, and that it tends to cost more to run, due to the increased token count.\n",
    "\n",
    "As models like the Gemini family are trained to be \"chatty\" and provide reasoning steps, you can ask the model to be more direct in the prompt."
   ]
  },
  {
   "cell_type": "code",
   "execution_count": 19,
   "id": "a72b97a6",
   "metadata": {
    "execution": {
     "iopub.execute_input": "2024-11-11T17:17:05.812528Z",
     "iopub.status.busy": "2024-11-11T17:17:05.812143Z",
     "iopub.status.idle": "2024-11-11T17:17:06.605414Z",
     "shell.execute_reply": "2024-11-11T17:17:06.604210Z"
    },
    "id": "5715555db1c1",
    "papermill": {
     "duration": 0.810648,
     "end_time": "2024-11-11T17:17:06.607801",
     "exception": false,
     "start_time": "2024-11-11T17:17:05.797153",
     "status": "completed"
    },
    "tags": []
   },
   "outputs": [
    {
     "name": "stdout",
     "output_type": "stream",
     "text": [
      "Here's how to solve this:\n",
      "\n",
      "* **When you were 4, your partner was 3 times your age:** 4 * 3 = 12 years old\n",
      "* **The age difference between you and your partner:** 12 - 4 = 8 years\n",
      "* **Since the age difference remains the same, your partner is 8 years older than you.**\n",
      "* **Your partner's current age:** 20 + 8 = 28 years old\n",
      "\n",
      "**Answer:** Your partner is 28 years old. \n",
      "\n"
     ]
    }
   ],
   "source": [
    "prompt = \"\"\"When I was 4 years old, my partner was 3 times my age. Now, I\n",
    "am 20 years old. How old is my partner? Return the answer immediately.\"\"\"\n",
    "\n",
    "model = genai.GenerativeModel('gemini-1.5-flash-latest')\n",
    "response = model.generate_content(prompt)\n",
    "\n",
    "print(response.text)"
   ]
  },
  {
   "cell_type": "markdown",
   "id": "9197b7f4",
   "metadata": {
    "id": "e12b19677bfd",
    "papermill": {
     "duration": 0.013853,
     "end_time": "2024-11-11T17:17:06.636072",
     "exception": false,
     "start_time": "2024-11-11T17:17:06.622219",
     "status": "completed"
    },
    "tags": []
   },
   "source": [
    "Now try the same approach, but indicate to the model that it should \"think step by step\"."
   ]
  },
  {
   "cell_type": "code",
   "execution_count": 20,
   "id": "bc6eddc1",
   "metadata": {
    "execution": {
     "iopub.execute_input": "2024-11-11T17:17:06.671762Z",
     "iopub.status.busy": "2024-11-11T17:17:06.670708Z",
     "iopub.status.idle": "2024-11-11T17:17:07.538605Z",
     "shell.execute_reply": "2024-11-11T17:17:07.537489Z"
    },
    "id": "ffd7536a481f",
    "papermill": {
     "duration": 0.88906,
     "end_time": "2024-11-11T17:17:07.541310",
     "exception": false,
     "start_time": "2024-11-11T17:17:06.652250",
     "status": "completed"
    },
    "tags": []
   },
   "outputs": [
    {
     "name": "stdout",
     "output_type": "stream",
     "text": [
      "Here's how to solve this:\n",
      "\n",
      "* **When you were 4, your partner was 3 times your age:**  4 * 3 = 12 years old.\n",
      "* **The age difference between you and your partner:** 12 - 4 = 8 years.\n",
      "* **Since the age difference remains constant:** Your partner is still 8 years older than you.\n",
      "* **Therefore, if you are now 20 years old, your partner is:** 20 + 8 = 28 years old. \n",
      "\n"
     ]
    }
   ],
   "source": [
    "prompt = \"\"\"When I was 4 years old, my partner was 3 times my age. Now,\n",
    "I am 20 years old. How old is my partner? Let's think step by step.\"\"\"\n",
    "\n",
    "response = model.generate_content(prompt)\n",
    "print(response.text)"
   ]
  },
  {
   "cell_type": "markdown",
   "id": "acb4fcb0",
   "metadata": {
    "id": "oiLgBQJj0V53",
    "papermill": {
     "duration": 0.013776,
     "end_time": "2024-11-11T17:17:07.573042",
     "exception": false,
     "start_time": "2024-11-11T17:17:07.559266",
     "status": "completed"
    },
    "tags": []
   },
   "source": [
    "### ReAct: Reason and act\n",
    "\n",
    "In this example you will run a ReAct prompt directly in the Gemini API and perform the searching steps yourself. As this prompt follows a well-defined structure, there are frameworks available that wrap the prompt into easier-to-use APIs that make tool calls automatically, such as the LangChain example from the chapter.\n",
    "\n",
    "To try this out with the Wikipedia search engine, check out the [Searching Wikipedia with ReAct](https://github.com/google-gemini/cookbook/blob/main/examples/Search_Wikipedia_using_ReAct.ipynb) cookbook example.\n",
    "\n",
    "\n",
    "> Note: The prompt and in-context examples used here are from [https://github.com/ysymyth/ReAct](https://github.com/ysymyth/ReAct) which is published under a [MIT license](https://opensource.org/licenses/MIT), Copyright (c) 2023 Shunyu Yao.\n",
    "\n",
    "<table align=left>\n",
    "  <td>\n",
    "    <a target=\"_blank\" href=\"https://aistudio.google.com/prompts/18oo63Lwosd-bQ6Ay51uGogB3Wk3H8XMO\"><img src=\"https://ai.google.dev/site-assets/images/marketing/home/icon-ais.png\" style=\"height: 24px\" height=24/> Open in AI Studio</a>\n",
    "  </td>\n",
    "</table>\n"
   ]
  },
  {
   "cell_type": "code",
   "execution_count": 21,
   "id": "90d4a57d",
   "metadata": {
    "execution": {
     "iopub.execute_input": "2024-11-11T17:17:07.603671Z",
     "iopub.status.busy": "2024-11-11T17:17:07.603150Z",
     "iopub.status.idle": "2024-11-11T17:17:07.611892Z",
     "shell.execute_reply": "2024-11-11T17:17:07.610873Z"
    },
    "id": "cBgyNJ5z0VSs",
    "papermill": {
     "duration": 0.027269,
     "end_time": "2024-11-11T17:17:07.614441",
     "exception": false,
     "start_time": "2024-11-11T17:17:07.587172",
     "status": "completed"
    },
    "tags": []
   },
   "outputs": [],
   "source": [
    "model_instructions = \"\"\"\n",
    "Solve a question answering task with interleaving Thought, Action, Observation steps. Thought can reason about the current situation,\n",
    "Observation is understanding relevant information from an Action's output and Action can be one of three types:\n",
    " (1) <search>entity</search>, which searches the exact entity on Wikipedia and returns the first paragraph if it exists. If not, it\n",
    "     will return some similar entities to search and you can try to search the information from those topics.\n",
    " (2) <lookup>keyword</lookup>, which returns the next sentence containing keyword in the current context. This only does exact matches,\n",
    "     so keep your searches short.\n",
    " (3) <finish>answer</finish>, which returns the answer and finishes the task.\n",
    "\"\"\"\n",
    "\n",
    "example1 = \"\"\"Question\n",
    "Musician and satirist Allie Goertz wrote a song about the \"The Simpsons\" character Milhouse, who Matt Groening named after who?\n",
    "\n",
    "Thought 1\n",
    "The question simplifies to \"The Simpsons\" character Milhouse is named after who. I only need to search Milhouse and find who it is named after.\n",
    "\n",
    "Action 1\n",
    "<search>Milhouse</search>\n",
    "\n",
    "Observation 1\n",
    "Milhouse Mussolini Van Houten is a recurring character in the Fox animated television series The Simpsons voiced by Pamela Hayden and created by Matt Groening.\n",
    "\n",
    "Thought 2\n",
    "The paragraph does not tell who Milhouse is named after, maybe I can look up \"named after\".\n",
    "\n",
    "Action 2\n",
    "<lookup>named after</lookup>\n",
    "\n",
    "Observation 2\n",
    "Milhouse was named after U.S. president Richard Nixon, whose middle name was Milhous.\n",
    "\n",
    "Thought 3\n",
    "Milhouse was named after U.S. president Richard Nixon, so the answer is Richard Nixon.\n",
    "\n",
    "Action 3\n",
    "<finish>Richard Nixon</finish>\n",
    "\"\"\"\n",
    "\n",
    "example2 = \"\"\"Question\n",
    "What is the elevation range for the area that the eastern sector of the Colorado orogeny extends into?\n",
    "\n",
    "Thought 1\n",
    "I need to search Colorado orogeny, find the area that the eastern sector of the Colorado orogeny extends into, then find the elevation range of the area.\n",
    "\n",
    "Action 1\n",
    "<search>Colorado orogeny</search>\n",
    "\n",
    "Observation 1\n",
    "The Colorado orogeny was an episode of mountain building (an orogeny) in Colorado and surrounding areas.\n",
    "\n",
    "Thought 2\n",
    "It does not mention the eastern sector. So I need to look up eastern sector.\n",
    "\n",
    "Action 2\n",
    "<lookup>eastern sector</lookup>\n",
    "\n",
    "Observation 2\n",
    "The eastern sector extends into the High Plains and is called the Central Plains orogeny.\n",
    "\n",
    "Thought 3\n",
    "The eastern sector of Colorado orogeny extends into the High Plains. So I need to search High Plains and find its elevation range.\n",
    "\n",
    "Action 3\n",
    "<search>High Plains</search>\n",
    "\n",
    "Observation 3\n",
    "High Plains refers to one of two distinct land regions\n",
    "\n",
    "Thought 4\n",
    "I need to instead search High Plains (United States).\n",
    "\n",
    "Action 4\n",
    "<search>High Plains (United States)</search>\n",
    "\n",
    "Observation 4\n",
    "The High Plains are a subregion of the Great Plains. From east to west, the High Plains rise in elevation from around 1,800 to 7,000 ft (550 to 2,130m).\n",
    "\n",
    "Thought 5\n",
    "High Plains rise in elevation from around 1,800 to 7,000 ft, so the answer is 1,800 to 7,000 ft.\n",
    "\n",
    "Action 5\n",
    "<finish>1,800 to 7,000 ft</finish>\n",
    "\"\"\"\n",
    "\n",
    "# Come up with more examples yourself, or take a look through https://github.com/ysymyth/ReAct/"
   ]
  },
  {
   "cell_type": "markdown",
   "id": "17c6dff4",
   "metadata": {
    "id": "C3wbfstjTgey",
    "papermill": {
     "duration": 0.01417,
     "end_time": "2024-11-11T17:17:07.644028",
     "exception": false,
     "start_time": "2024-11-11T17:17:07.629858",
     "status": "completed"
    },
    "tags": []
   },
   "source": [
    "To capture a single step at a time, while ignoring any hallucinated Observation steps, you will use `stop_sequences` to end the generation process. The steps are `Thought`, `Action`, `Observation`, in that order."
   ]
  },
  {
   "cell_type": "code",
   "execution_count": 22,
   "id": "f4212e50",
   "metadata": {
    "execution": {
     "iopub.execute_input": "2024-11-11T17:17:07.675417Z",
     "iopub.status.busy": "2024-11-11T17:17:07.674415Z",
     "iopub.status.idle": "2024-11-11T17:17:11.367799Z",
     "shell.execute_reply": "2024-11-11T17:17:11.366573Z"
    },
    "id": "8mxrXRkRTdXm",
    "papermill": {
     "duration": 3.71155,
     "end_time": "2024-11-11T17:17:11.369979",
     "exception": false,
     "start_time": "2024-11-11T17:17:07.658429",
     "status": "completed"
    },
    "tags": []
   },
   "outputs": [
    {
     "name": "stdout",
     "output_type": "stream",
     "text": [
      "Thought 1\n",
      "I need to find the Transformers paper and look for the authors listed. Then I can find the youngest author.\n",
      "\n",
      "Action 1\n",
      "<search>Transformers NLP paper</search>\n",
      "\n"
     ]
    }
   ],
   "source": [
    "question = \"\"\"Question\n",
    "Who was the youngest author listed on the transformers NLP paper?\n",
    "\"\"\"\n",
    "\n",
    "model = genai.GenerativeModel('gemini-1.5-flash-latest')\n",
    "react_chat = model.start_chat()\n",
    "\n",
    "# You will perform the Action, so generate up to, but not including, the Observation.\n",
    "config = genai.GenerationConfig(stop_sequences=[\"\\nObservation\"])\n",
    "\n",
    "resp = react_chat.send_message(\n",
    "    [model_instructions, example1, example2, question],\n",
    "    generation_config=config)\n",
    "print(resp.text)"
   ]
  },
  {
   "cell_type": "markdown",
   "id": "c2b883a5",
   "metadata": {
    "id": "aW2PIdLbVv3l",
    "papermill": {
     "duration": 0.013936,
     "end_time": "2024-11-11T17:17:11.398277",
     "exception": false,
     "start_time": "2024-11-11T17:17:11.384341",
     "status": "completed"
    },
    "tags": []
   },
   "source": [
    "Now you can perform this research yourself and supply it back to the model."
   ]
  },
  {
   "cell_type": "code",
   "execution_count": 23,
   "id": "bff8b7cc",
   "metadata": {
    "execution": {
     "iopub.execute_input": "2024-11-11T17:17:11.428651Z",
     "iopub.status.busy": "2024-11-11T17:17:11.427701Z",
     "iopub.status.idle": "2024-11-11T17:17:12.051280Z",
     "shell.execute_reply": "2024-11-11T17:17:12.050247Z"
    },
    "id": "mLMc0DZaV9g2",
    "papermill": {
     "duration": 0.641176,
     "end_time": "2024-11-11T17:17:12.053546",
     "exception": false,
     "start_time": "2024-11-11T17:17:11.412370",
     "status": "completed"
    },
    "tags": []
   },
   "outputs": [
    {
     "name": "stdout",
     "output_type": "stream",
     "text": [
      "Thought 2\n",
      "The observation gives the authors but does not mention their age. I need to search the authors individually.\n",
      "\n",
      "Action 2\n",
      "<search>Ashish Vaswani</search> \n",
      "\n"
     ]
    }
   ],
   "source": [
    "observation = \"\"\"Observation 1\n",
    "[1706.03762] Attention Is All You Need\n",
    "Ashish Vaswani, Noam Shazeer, Niki Parmar, Jakob Uszkoreit, Llion Jones, Aidan N. Gomez, Lukasz Kaiser, Illia Polosukhin\n",
    "We propose a new simple network architecture, the Transformer, based solely on attention mechanisms, dispensing with recurrence and convolutions entirely.\n",
    "\"\"\"\n",
    "resp = react_chat.send_message(observation, generation_config=config)\n",
    "print(resp.text)"
   ]
  },
  {
   "cell_type": "markdown",
   "id": "bfa1040f",
   "metadata": {
    "id": "bo0tzf4nX6dA",
    "papermill": {
     "duration": 0.013729,
     "end_time": "2024-11-11T17:17:12.081623",
     "exception": false,
     "start_time": "2024-11-11T17:17:12.067894",
     "status": "completed"
    },
    "tags": []
   },
   "source": [
    "This process repeats until the `<finish>` action is reached. You can continue running this yourself if you like, or try the [Wikipedia example](https://github.com/google-gemini/cookbook/blob/main/examples/Search_Wikipedia_using_ReAct.ipynb) to see a fully automated ReAct system at work."
   ]
  },
  {
   "cell_type": "markdown",
   "id": "a00231b4",
   "metadata": {
    "id": "jPiZ_eIIaVPt",
    "papermill": {
     "duration": 0.013733,
     "end_time": "2024-11-11T17:17:12.109438",
     "exception": false,
     "start_time": "2024-11-11T17:17:12.095705",
     "status": "completed"
    },
    "tags": []
   },
   "source": [
    "## Code prompting"
   ]
  },
  {
   "cell_type": "markdown",
   "id": "53e20a8f",
   "metadata": {
    "id": "ZinKamwXeR6C",
    "papermill": {
     "duration": 0.013814,
     "end_time": "2024-11-11T17:17:12.137194",
     "exception": false,
     "start_time": "2024-11-11T17:17:12.123380",
     "status": "completed"
    },
    "tags": []
   },
   "source": [
    "### Generating code\n",
    "\n",
    "The Gemini family of models can be used to generate code, configuration and scripts. Generating code can be helpful when learning to code, learning a new language or for rapidly generating a first draft.\n",
    "\n",
    "It's important to be aware that since LLMs can't reason, and can repeat training data, it's essential to read and test your code first, and comply with any relevant licenses.\n",
    "\n",
    "<table align=left>\n",
    "  <td>\n",
    "    <a target=\"_blank\" href=\"https://aistudio.google.com/prompts/1YX71JGtzDjXQkgdes8bP6i3oH5lCRKxv\"><img src=\"https://ai.google.dev/site-assets/images/marketing/home/icon-ais.png\" style=\"height: 24px\" height=24/> Open in AI Studio</a>\n",
    "  </td>\n",
    "</table>"
   ]
  },
  {
   "cell_type": "code",
   "execution_count": 24,
   "id": "961e3c13",
   "metadata": {
    "execution": {
     "iopub.execute_input": "2024-11-11T17:17:12.167179Z",
     "iopub.status.busy": "2024-11-11T17:17:12.166462Z",
     "iopub.status.idle": "2024-11-11T17:17:12.764563Z",
     "shell.execute_reply": "2024-11-11T17:17:12.763527Z"
    },
    "id": "fOQP9pqmeUO1",
    "papermill": {
     "duration": 0.61561,
     "end_time": "2024-11-11T17:17:12.766764",
     "exception": false,
     "start_time": "2024-11-11T17:17:12.151154",
     "status": "completed"
    },
    "tags": []
   },
   "outputs": [
    {
     "data": {
      "text/markdown": [
       "```python\n",
       "def factorial(n):\n",
       "  if n == 0:\n",
       "    return 1\n",
       "  else:\n",
       "    return n * factorial(n-1)\n",
       "```"
      ],
      "text/plain": [
       "<IPython.core.display.Markdown object>"
      ]
     },
     "execution_count": 24,
     "metadata": {},
     "output_type": "execute_result"
    }
   ],
   "source": [
    "model = genai.GenerativeModel(\n",
    "    'gemini-1.5-flash-latest',\n",
    "    generation_config=genai.GenerationConfig(\n",
    "        temperature=1,\n",
    "        top_p=1,\n",
    "        max_output_tokens=1024,\n",
    "    ))\n",
    "\n",
    "# Gemini 1.5 models are very chatty, so it helps to specify they stick to the code.\n",
    "code_prompt = \"\"\"\n",
    "Write a Python function to calculate the factorial of a number. No explanation, provide only the code.\n",
    "\"\"\"\n",
    "\n",
    "response = model.generate_content(code_prompt)\n",
    "Markdown(response.text)"
   ]
  },
  {
   "cell_type": "markdown",
   "id": "1b680d43",
   "metadata": {
    "id": "wlBMWSFhgVRQ",
    "papermill": {
     "duration": 0.014112,
     "end_time": "2024-11-11T17:17:12.795393",
     "exception": false,
     "start_time": "2024-11-11T17:17:12.781281",
     "status": "completed"
    },
    "tags": []
   },
   "source": [
    "### Code execution\n",
    "\n",
    "The Gemini API can automatically run generated code too, and will return the output.\n",
    "\n",
    "<table align=left>\n",
    "  <td>\n",
    "    <a target=\"_blank\" href=\"https://aistudio.google.com/prompts/11veFr_VYEwBWcLkhNLr-maCG0G8sS_7Z\"><img src=\"https://ai.google.dev/site-assets/images/marketing/home/icon-ais.png\" style=\"height: 24px\" height=24/> Open in AI Studio</a>\n",
    "  </td>\n",
    "</table>"
   ]
  },
  {
   "cell_type": "code",
   "execution_count": 25,
   "id": "e014934e",
   "metadata": {
    "execution": {
     "iopub.execute_input": "2024-11-11T17:17:12.825893Z",
     "iopub.status.busy": "2024-11-11T17:17:12.825467Z",
     "iopub.status.idle": "2024-11-11T17:17:18.037911Z",
     "shell.execute_reply": "2024-11-11T17:17:18.036898Z"
    },
    "id": "jT3OfWYfhjRL",
    "papermill": {
     "duration": 5.230105,
     "end_time": "2024-11-11T17:17:18.040099",
     "exception": false,
     "start_time": "2024-11-11T17:17:12.809994",
     "status": "completed"
    },
    "tags": []
   },
   "outputs": [
    {
     "data": {
      "text/markdown": [
       "I will calculate the sum of the first 14 odd prime numbers.\n",
       "\n",
       "\n",
       "``` python\n",
       "import sympy\n",
       "\n",
       "primes = list(sympy.primerange(1, 100))\n",
       "odd_primes = [prime for prime in primes if prime % 2 != 0]\n",
       "sum_of_primes = sum(odd_primes[:14])\n",
       "print(f'{sum_of_primes=}')\n",
       "\n",
       "```\n",
       "```\n",
       "sum_of_primes=326\n",
       "\n",
       "```\n",
       "The sum of the first 14 odd prime numbers is 326. \n"
      ],
      "text/plain": [
       "<IPython.core.display.Markdown object>"
      ]
     },
     "execution_count": 25,
     "metadata": {},
     "output_type": "execute_result"
    }
   ],
   "source": [
    "model = genai.GenerativeModel(\n",
    "    'gemini-1.5-flash-latest',\n",
    "    tools='code_execution')\n",
    "\n",
    "code_exec_prompt = \"\"\"\n",
    "Calculate the sum of the first 14 prime numbers. Only consider the odd primes, and make sure you get them all.\n",
    "\"\"\"\n",
    "\n",
    "response = model.generate_content(code_exec_prompt)\n",
    "Markdown(response.text)"
   ]
  },
  {
   "cell_type": "markdown",
   "id": "d9de6805",
   "metadata": {
    "id": "ZspT1GSkjG6d",
    "papermill": {
     "duration": 0.014294,
     "end_time": "2024-11-11T17:17:18.068910",
     "exception": false,
     "start_time": "2024-11-11T17:17:18.054616",
     "status": "completed"
    },
    "tags": []
   },
   "source": [
    "While this looks like a single-part response, you can inspect the response to see the each of the steps: initial text, code generation, execution results, and final text summary."
   ]
  },
  {
   "cell_type": "code",
   "execution_count": 26,
   "id": "10eede9a",
   "metadata": {
    "execution": {
     "iopub.execute_input": "2024-11-11T17:17:18.099458Z",
     "iopub.status.busy": "2024-11-11T17:17:18.099081Z",
     "iopub.status.idle": "2024-11-11T17:17:18.104694Z",
     "shell.execute_reply": "2024-11-11T17:17:18.103730Z"
    },
    "id": "j4gQVzcRjRX-",
    "papermill": {
     "duration": 0.023928,
     "end_time": "2024-11-11T17:17:18.107259",
     "exception": false,
     "start_time": "2024-11-11T17:17:18.083331",
     "status": "completed"
    },
    "tags": []
   },
   "outputs": [
    {
     "name": "stdout",
     "output_type": "stream",
     "text": [
      "text: \"I will calculate the sum of the first 14 odd prime numbers.\\n\\n\"\n",
      "\n",
      "-----\n",
      "executable_code {\n",
      "  language: PYTHON\n",
      "  code: \"\\nimport sympy\\n\\nprimes = list(sympy.primerange(1, 100))\\nodd_primes = [prime for prime in primes if prime % 2 != 0]\\nsum_of_primes = sum(odd_primes[:14])\\nprint(f\\'{sum_of_primes=}\\')\\n\"\n",
      "}\n",
      "\n",
      "-----\n",
      "code_execution_result {\n",
      "  outcome: OUTCOME_OK\n",
      "  output: \"sum_of_primes=326\\n\"\n",
      "}\n",
      "\n",
      "-----\n",
      "text: \"The sum of the first 14 odd prime numbers is 326. \\n\"\n",
      "\n",
      "-----\n"
     ]
    }
   ],
   "source": [
    "for part in response.candidates[0].content.parts:\n",
    "  print(part)\n",
    "  print(\"-----\")"
   ]
  },
  {
   "cell_type": "markdown",
   "id": "858279cf",
   "metadata": {
    "id": "1gUX8QzCj4d5",
    "papermill": {
     "duration": 0.014488,
     "end_time": "2024-11-11T17:17:18.136882",
     "exception": false,
     "start_time": "2024-11-11T17:17:18.122394",
     "status": "completed"
    },
    "tags": []
   },
   "source": [
    "### Explaining code\n",
    "\n",
    "The Gemini family of models can explain code to you too.\n",
    "\n",
    "<table align=left>\n",
    "  <td>\n",
    "    <a target=\"_blank\" href=\"https://aistudio.google.com/prompts/1N7LGzWzCYieyOf_7bAG4plrmkpDNmUyb\"><img src=\"https://ai.google.dev/site-assets/images/marketing/home/icon-ais.png\" style=\"height: 24px\" height=24/> Open in AI Studio</a>\n",
    "  </td>\n",
    "</table>"
   ]
  },
  {
   "cell_type": "code",
   "execution_count": 27,
   "id": "57d631d3",
   "metadata": {
    "execution": {
     "iopub.execute_input": "2024-11-11T17:17:18.168447Z",
     "iopub.status.busy": "2024-11-11T17:17:18.167688Z",
     "iopub.status.idle": "2024-11-11T17:17:21.524441Z",
     "shell.execute_reply": "2024-11-11T17:17:21.523375Z"
    },
    "id": "7_jPMMoxkIEb",
    "papermill": {
     "duration": 3.374777,
     "end_time": "2024-11-11T17:17:21.526596",
     "exception": false,
     "start_time": "2024-11-11T17:17:18.151819",
     "status": "completed"
    },
    "tags": []
   },
   "outputs": [
    {
     "data": {
      "text/markdown": [
       "This file is a Bash script that provides a customized Git prompt for your terminal. Essentially, it modifies your command prompt to display useful information about the current Git repository you're working in.\n",
       "\n",
       "Here's why you would use it:\n",
       "\n",
       "* **Enhanced Git Awareness:** The script provides visual cues within your prompt about the Git branch you're on, any uncommitted changes, stashes, conflicts, or upstream status. This helps you stay aware of the state of your repository without constantly running Git commands.\n",
       "\n",
       "* **Improved Workflow:** By displaying relevant Git information directly in your prompt, the script can streamline your workflow and reduce the need for extra commands.\n",
       "\n",
       "* **Customizable Appearance:** The script allows you to configure the appearance of the prompt, including colors, symbols, and information displayed. You can even create custom themes to match your preferences.\n",
       "\n",
       "* **Cross-Shell Compatibility:** The script strives for compatibility with both Bash and Zsh, providing options for asynchronous execution where necessary.\n",
       "\n",
       "**Here's how it works at a high level:**\n",
       "\n",
       "1. **Setup:**  The script defines various functions for setting up the prompt, loading color themes, and checking the status of the repository.\n",
       "2. **Configuration:** It reads settings from `.bash-git-rc` (if present) and environment variables to determine the desired prompt behavior and appearance.\n",
       "3. **Status Fetch:** The script retrieves Git status information, such as branch name, uncommitted changes, and upstream differences.\n",
       "4. **Prompt Modification:** It dynamically constructs the new prompt string by incorporating the Git information into a pre-defined template, and updates your `PS1` variable.\n",
       "\n",
       "**Key points to remember:**\n",
       "\n",
       "* **Installation:** You need to source this script in your shell configuration file (usually `.bashrc` or `.zshrc`) to make it active.\n",
       "* **Customization:** The script provides many customization options; refer to the comments within the script and the included documentation for details.\n",
       "\n",
       "This script is a powerful tool for Git users who want to improve their terminal experience and gain a more visually informative workspace. \n"
      ],
      "text/plain": [
       "<IPython.core.display.Markdown object>"
      ]
     },
     "execution_count": 27,
     "metadata": {},
     "output_type": "execute_result"
    }
   ],
   "source": [
    "file_contents = !curl https://raw.githubusercontent.com/magicmonty/bash-git-prompt/refs/heads/master/gitprompt.sh\n",
    "\n",
    "explain_prompt = f\"\"\"\n",
    "Please explain what this file does at a very high level. What is it, and why would I use it?\n",
    "\n",
    "```\n",
    "{file_contents}\n",
    "```\n",
    "\"\"\"\n",
    "\n",
    "model = genai.GenerativeModel('gemini-1.5-flash-latest')\n",
    "\n",
    "response = model.generate_content(explain_prompt)\n",
    "Markdown(response.text)"
   ]
  },
  {
   "cell_type": "markdown",
   "id": "be5ffadd",
   "metadata": {
    "id": "2a8266d97ce5",
    "papermill": {
     "duration": 0.014452,
     "end_time": "2024-11-11T17:17:21.555946",
     "exception": false,
     "start_time": "2024-11-11T17:17:21.541494",
     "status": "completed"
    },
    "tags": []
   },
   "source": [
    "## Learn more\n",
    "\n",
    "To learn more about prompting in depth:\n",
    "\n",
    "* Check out the whitepaper issued with today's content,\n",
    "* Try out the apps listed at the top of this notebook ([TextFX](https://textfx.withgoogle.com/), [SQL Talk](https://sql-talk-r5gdynozbq-uc.a.run.app/) and [NotebookLM](https://notebooklm.google/)),\n",
    "* Read the [Introduction to Prompting](https://ai.google.dev/gemini-api/docs/prompting-intro) from the Gemini API docs,\n",
    "* Explore the Gemini API's [prompt gallery](https://ai.google.dev/gemini-api/prompts) and try them out in AI Studio,\n",
    "* Check out the Gemini API cookbook for [inspirational examples](https://github.com/google-gemini/cookbook/blob/main/examples/) and [educational quickstarts](https://github.com/google-gemini/cookbook/blob/main/quickstarts/).\n",
    "\n",
    "And please share anything exciting you have tried in the Discord!"
   ]
  }
 ],
 "metadata": {
  "colab": {
   "name": "day-1-prompting.ipynb",
   "toc_visible": true
  },
  "kaggle": {
   "accelerator": "none",
   "dataSources": [],
   "dockerImageVersionId": 30786,
   "isGpuEnabled": false,
   "isInternetEnabled": true,
   "language": "python",
   "sourceType": "notebook"
  },
  "kernelspec": {
   "display_name": "Python 3",
   "language": "python",
   "name": "python3"
  },
  "language_info": {
   "codemirror_mode": {
    "name": "ipython",
    "version": 3
   },
   "file_extension": ".py",
   "mimetype": "text/x-python",
   "name": "python",
   "nbconvert_exporter": "python",
   "pygments_lexer": "ipython3",
   "version": "3.10.14"
  },
  "papermill": {
   "default_parameters": {},
   "duration": 62.879291,
   "end_time": "2024-11-11T17:17:22.091330",
   "environment_variables": {},
   "exception": null,
   "input_path": "__notebook__.ipynb",
   "output_path": "__notebook__.ipynb",
   "parameters": {},
   "start_time": "2024-11-11T17:16:19.212039",
   "version": "2.6.0"
  }
 },
 "nbformat": 4,
 "nbformat_minor": 5
}
